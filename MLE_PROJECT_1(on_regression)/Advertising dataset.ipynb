{
 "cells": [
  {
   "cell_type": "markdown",
   "metadata": {},
   "source": [
    "## Import Libraries"
   ]
  },
  {
   "cell_type": "code",
   "execution_count": 1,
   "metadata": {},
   "outputs": [],
   "source": [
    "import pandas as pd\n",
    "import numpy as np\n",
    "import seaborn as sns\n",
    "import matplotlib.pyplot as plt\n",
    "from sklearn.preprocessing import LabelEncoder, OneHotEncoder\n",
    "from sklearn.compose import ColumnTransformer\n",
    "from sklearn.model_selection import train_test_split\n",
    "from sklearn.linear_model import LinearRegression\n",
    "from sklearn.metrics import r2_score"
   ]
  },
  {
   "cell_type": "markdown",
   "metadata": {},
   "source": [
    "## Importing data"
   ]
  },
  {
   "cell_type": "code",
   "execution_count": null,
   "metadata": {},
   "outputs": [
    {
     "name": "stdout",
     "output_type": "stream",
     "text": [
      "     Unnamed: 0     TV  Radio  Newspaper  Sales\n",
      "0             1  230.1   37.8       69.2   22.1\n",
      "1             2   44.5   39.3       45.1   10.4\n",
      "2             3   17.2   45.9       69.3    9.3\n",
      "3             4  151.5   41.3       58.5   18.5\n",
      "4             5  180.8   10.8       58.4   12.9\n",
      "..          ...    ...    ...        ...    ...\n",
      "195         196   38.2    3.7       13.8    7.6\n",
      "196         197   94.2    4.9        8.1    9.7\n",
      "197         198  177.0    9.3        6.4   12.8\n",
      "198         199  283.6   42.0       66.2   25.5\n",
      "199         200  232.1    8.6        8.7   13.4\n",
      "\n",
      "[200 rows x 5 columns]\n"
     ]
    }
   ],
   "source": [
    "data = pd.read_csv(r\"C:\\Users\\hp\\OneDrive\\Desktop\\MLE PROJECTS\\REGRESSION\\MLE_PROJECT_1(on_regression)\\Advertising.csv\")\n",
    "print(data)"
   ]
  },
  {
   "cell_type": "markdown",
   "metadata": {},
   "source": [
    "## Basic Information"
   ]
  },
  {
   "cell_type": "code",
   "execution_count": 3,
   "metadata": {},
   "outputs": [
    {
     "name": "stdout",
     "output_type": "stream",
     "text": [
      "<class 'pandas.core.frame.DataFrame'>\n",
      "RangeIndex: 200 entries, 0 to 199\n",
      "Data columns (total 5 columns):\n",
      " #   Column      Non-Null Count  Dtype  \n",
      "---  ------      --------------  -----  \n",
      " 0   Unnamed: 0  200 non-null    int64  \n",
      " 1   TV          200 non-null    float64\n",
      " 2   Radio       200 non-null    float64\n",
      " 3   Newspaper   200 non-null    float64\n",
      " 4   Sales       200 non-null    float64\n",
      "dtypes: float64(4), int64(1)\n",
      "memory usage: 7.9 KB\n"
     ]
    }
   ],
   "source": [
    "data.info()"
   ]
  },
  {
   "cell_type": "markdown",
   "metadata": {},
   "source": [
    "## Data Cleaning"
   ]
  },
  {
   "cell_type": "markdown",
   "metadata": {},
   "source": [
    "## Empty cells"
   ]
  },
  {
   "cell_type": "code",
   "execution_count": 4,
   "metadata": {},
   "outputs": [
    {
     "data": {
      "text/plain": [
       "Unnamed: 0    0\n",
       "TV            0\n",
       "Radio         0\n",
       "Newspaper     0\n",
       "Sales         0\n",
       "dtype: int64"
      ]
     },
     "execution_count": 4,
     "metadata": {},
     "output_type": "execute_result"
    }
   ],
   "source": [
    "data.isna().sum()"
   ]
  },
  {
   "cell_type": "markdown",
   "metadata": {},
   "source": [
    "### Check Duplicates"
   ]
  },
  {
   "cell_type": "code",
   "execution_count": 5,
   "metadata": {},
   "outputs": [
    {
     "name": "stdout",
     "output_type": "stream",
     "text": [
      "Number of duplicated rows:  0\n"
     ]
    }
   ],
   "source": [
    "print('Number of duplicated rows: ' , len(data[data.duplicated()]))"
   ]
  },
  {
   "cell_type": "markdown",
   "metadata": {},
   "source": [
    "## Plotting Boxplot"
   ]
  },
  {
   "cell_type": "code",
   "execution_count": 6,
   "metadata": {},
   "outputs": [
    {
     "data": {
      "image/png": "[encoded data removed]",
      "text/plain": [
       "<Figure size 640x480 with 1 Axes>"
      ]
     },
     "metadata": {},
     "output_type": "display_data"
    }
   ],
   "source": [
    "sns.boxplot(data=data)\n",
    "plt.xticks(rotation=90)\n",
    "plt.show()"
   ]
  },
  {
   "cell_type": "markdown",
   "metadata": {},
   "source": [
    "## Encoding Categorial Data"
   ]
  },
  {
   "cell_type": "code",
   "execution_count": 7,
   "metadata": {},
   "outputs": [
    {
     "name": "stdout",
     "output_type": "stream",
     "text": [
      "     Unnamed: 0     TV  Radio  Newspaper  Sales\n",
      "0             1  230.1   37.8       69.2   22.1\n",
      "1             2   44.5   39.3       45.1   10.4\n",
      "2             3   17.2   45.9       69.3    9.3\n",
      "3             4  151.5   41.3       58.5   18.5\n",
      "4             5  180.8   10.8       58.4   12.9\n",
      "..          ...    ...    ...        ...    ...\n",
      "195         196   38.2    3.7       13.8    7.6\n",
      "196         197   94.2    4.9        8.1    9.7\n",
      "197         198  177.0    9.3        6.4   12.8\n",
      "198         199  283.6   42.0       66.2   25.5\n",
      "199         200  232.1    8.6        8.7   13.4\n",
      "\n",
      "[200 rows x 5 columns]\n"
     ]
    }
   ],
   "source": [
    "categ_col = data.select_dtypes(include=['object']).columns\n",
    "\n",
    "# Initialize encoders\n",
    "label_encoder = LabelEncoder()\n",
    "\n",
    "# Encode each categorical column using Label Encoding for simplicity\n",
    "encoded_data = data.copy()\n",
    "for i in categ_col:\n",
    "    encoded_data[i] = label_encoder.fit_transform(data[i])\n",
    "\n",
    "# Display the first 5 rows of the encoded dataset\n",
    "print(encoded_data)"
   ]
  },
  {
   "cell_type": "markdown",
   "metadata": {},
   "source": [
    "## Extract Dependent and Independent Variables"
   ]
  },
  {
   "cell_type": "code",
   "execution_count": 8,
   "metadata": {},
   "outputs": [],
   "source": [
    "X = encoded_data.iloc[:,0:4]   #Independent variable\n",
    "y = encoded_data['Sales']     #dependent variable"
   ]
  },
  {
   "cell_type": "markdown",
   "metadata": {},
   "source": [
    "## ## Statistical Analysis\n",
    "### (Correlation,Describe) "
   ]
  },
  {
   "cell_type": "code",
   "execution_count": 9,
   "metadata": {},
   "outputs": [
    {
     "name": "stdout",
     "output_type": "stream",
     "text": [
      "       Unnamed: 0          TV       Radio   Newspaper       Sales\n",
      "count  200.000000  200.000000  200.000000  200.000000  200.000000\n",
      "mean   100.500000  147.042500   23.264000   30.554000   14.022500\n",
      "std     57.879185   85.854236   14.846809   21.778621    5.217457\n",
      "min      1.000000    0.700000    0.000000    0.300000    1.600000\n",
      "25%     50.750000   74.375000    9.975000   12.750000   10.375000\n",
      "50%    100.500000  149.750000   22.900000   25.750000   12.900000\n",
      "75%    150.250000  218.825000   36.525000   45.100000   17.400000\n",
      "max    200.000000  296.400000   49.600000  114.000000   27.000000\n"
     ]
    }
   ],
   "source": [
    "print(data.describe())"
   ]
  },
  {
   "cell_type": "code",
   "execution_count": 10,
   "metadata": {},
   "outputs": [
    {
     "name": "stdout",
     "output_type": "stream",
     "text": [
      "            Unnamed: 0     TV  Radio  Newspaper  Sales\n",
      "Unnamed: 0       1.000  0.018 -0.111     -0.155 -0.052\n",
      "TV               0.018  1.000  0.055      0.057  0.782\n",
      "Radio           -0.111  0.055  1.000      0.354  0.576\n",
      "Newspaper       -0.155  0.057  0.354      1.000  0.228\n",
      "Sales           -0.052  0.782  0.576      0.228  1.000\n"
     ]
    },
    {
     "data": {
      "text/plain": [
       "<Axes: >"
      ]
     },
     "execution_count": 10,
     "metadata": {},
     "output_type": "execute_result"
    },
    {
     "data": {
      "image/png": "[encoded data removed]",
      "text/plain": [
       "<Figure size 640x480 with 2 Axes>"
      ]
     },
     "metadata": {},
     "output_type": "display_data"
    }
   ],
   "source": [
    "correlation=encoded_data.corr(numeric_only=True)\n",
    "print(np.around(correlation,decimals=3))\n",
    "sns.heatmap(correlation,annot=True)"
   ]
  },
  {
   "cell_type": "markdown",
   "metadata": {},
   "source": [
    "## Split Train and Test Data"
   ]
  },
  {
   "cell_type": "code",
   "execution_count": 11,
   "metadata": {},
   "outputs": [],
   "source": [
    "X_train, X_test, y_train, y_test = train_test_split(X, y, test_size=0.2, random_state=42)"
   ]
  },
  {
   "cell_type": "markdown",
   "metadata": {},
   "source": [
    "## Build Model"
   ]
  },
  {
   "cell_type": "code",
   "execution_count": 12,
   "metadata": {},
   "outputs": [
    {
     "name": "stdout",
     "output_type": "stream",
     "text": [
      "     Actual  Predicted\n",
      "95     16.9  16.412277\n",
      "15     22.4  20.843193\n",
      "30     21.4  21.511869\n",
      "158     7.3  10.653100\n",
      "128    24.7  22.124058\n",
      "115    12.6  13.123835\n",
      "69     22.3  21.037489\n",
      "170     8.4   7.503854\n",
      "174    11.5  13.647870\n",
      "45     14.9  15.120409\n",
      "66      9.5   9.020556\n",
      "182     8.7   6.706666\n",
      "165    11.9  14.401551\n",
      "78      5.3   8.886090\n",
      "186    10.3   9.743533\n",
      "177    11.7  12.215520\n",
      "56      5.5   8.713709\n",
      "152    16.6  16.294145\n",
      "82     11.3  10.268023\n",
      "68     18.9  18.804982\n",
      "124    19.7  19.588647\n",
      "16     12.5  13.223183\n",
      "148    10.9  12.364787\n",
      "93     22.2  21.314736\n",
      "65      9.3   7.797347\n",
      "60      8.1   5.781900\n",
      "84     21.7  20.749348\n",
      "67     13.4  11.954767\n",
      "125    10.6   9.199109\n",
      "132     5.7   8.521787\n",
      "9      10.6  12.404313\n",
      "18     11.3   9.948652\n",
      "55     23.7  21.368803\n",
      "75      8.7  12.253748\n",
      "150    16.1  18.299435\n",
      "104    20.7  20.133474\n",
      "135    11.6  14.074646\n",
      "137    20.8  20.885947\n",
      "164    11.9  11.052150\n",
      "76      6.9   4.551687\n"
     ]
    }
   ],
   "source": [
    "# Fitting the MLR model to the training set\n",
    "model = LinearRegression()\n",
    "model.fit(X_train, y_train)\n",
    "\n",
    "# Predicting the test set result\n",
    "y_pred = model.predict(X_test)\n",
    "\n",
    "# To compare the actual output values for X_test with the predicted value\n",
    "data = pd.DataFrame({'Actual': y_test, 'Predicted': y_pred})\n",
    "print(data)"
   ]
  },
  {
   "cell_type": "code",
   "execution_count": 13,
   "metadata": {},
   "outputs": [
    {
     "name": "stdout",
     "output_type": "stream",
     "text": [
      "r2 score is  89.8648915141708 %\n"
     ]
    }
   ],
   "source": [
    "# predicting the accuracy score\n",
    "score = r2_score(y_test,y_pred)\n",
    "print(\"r2 score is \", score*100,\"%\")"
   ]
  },
  {
   "cell_type": "code",
   "execution_count": 14,
   "metadata": {},
   "outputs": [],
   "source": [
    "from sklearn.ensemble import RandomForestRegressor\n",
    "from sklearn.ensemble import GradientBoostingRegressor\n",
    "from xgboost import XGBRegressor"
   ]
  },
  {
   "cell_type": "code",
   "execution_count": 15,
   "metadata": {},
   "outputs": [
    {
     "name": "stdout",
     "output_type": "stream",
     "text": [
      "0.898648915141708 0.9844132885545132 0.9724646299340373\n"
     ]
    }
   ],
   "source": [
    "lr = LinearRegression()\n",
    "lr.fit(X_train,y_train)\n",
    "\n",
    "gb = GradientBoostingRegressor()\n",
    "gb.fit(X_train,y_train)\n",
    "xgb= XGBRegressor()\n",
    "xgb.fit(X_train,y_train)\n",
    "# Prediction on the dataset\n",
    "y_predict1 = lr.predict(X_test)\n",
    "\n",
    "y_predict3 = gb.predict(X_test)\n",
    "y_predict4 = xgb.predict(X_test)\n",
    "# Evaluating\n",
    "from sklearn import metrics\n",
    "scorelr = metrics.r2_score(y_test,y_predict1)\n",
    "\n",
    "scoregb = metrics.r2_score(y_test,y_predict3)\n",
    "scorexgb = metrics.r2_score(y_test,y_predict4)\n",
    "print(scorelr,scoregb,scorexgb)"
   ]
  },
  {
   "cell_type": "code",
   "execution_count": 21,
   "metadata": {},
   "outputs": [
    {
     "data": {
      "image/png": "[encoded data removed]",
      "text/plain": [
       "<Figure size 640x480 with 1 Axes>"
      ]
     },
     "metadata": {},
     "output_type": "display_data"
    }
   ],
   "source": [
    "models = ['Linear Regression', 'Gradient Boosting', 'XGBoost']\n",
    "scores = [scorelr, scoregb, scorexgb]\n",
    "plt.bar(models, scores, color=['blue', 'orange', 'green'])\n",
    "plt.ylim(0, 1.5)\n",
    "plt.title('Model Performance Comparison (R2 Score)')\n",
    "plt.ylabel('R2 Score')\n",
    "plt.xlabel('Models')\n",
    "for i, score in enumerate(scores):\n",
    "    plt.text(i, score + 0.02, f'{score:.2f}', ha='center')\n",
    "plt.show()"
   ]
  },
  {
   "cell_type": "markdown",
   "metadata": {},
   "source": [
    "## From this graph we can says that Gradient boosting models performs the perfect accuracy score"
   ]
  }
 ],
 "metadata": {
  "kernelspec": {
   "display_name": "Python 3",
   "language": "python",
   "name": "python3"
  },
  "language_info": {
   "codemirror_mode": {
    "name": "ipython",
    "version": 3
   },
   "file_extension": ".py",
   "mimetype": "text/x-python",
   "name": "python",
   "nbconvert_exporter": "python",
   "pygments_lexer": "ipython3",
   "version": "3.10.11"
  }
 },
 "nbformat": 4,
 "nbformat_minor": 2
}
