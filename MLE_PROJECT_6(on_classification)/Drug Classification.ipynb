{
 "cells": [
  {
   "cell_type": "markdown",
   "metadata": {},
   "source": [
    "## Import Libraries"
   ]
  },
  {
   "cell_type": "code",
   "execution_count": 1,
   "metadata": {},
   "outputs": [],
   "source": [
    "import pandas as pd\n",
    "import numpy as np\n",
    "import seaborn as sns\n",
    "import matplotlib.pyplot as plt\n",
    "from sklearn.preprocessing import LabelEncoder, OneHotEncoder, StandardScaler\n",
    "from sklearn.compose import ColumnTransformer\n",
    "from sklearn.model_selection import train_test_split\n",
    "from sklearn.ensemble import RandomForestClassifier\n",
    "from sklearn.metrics import accuracy_score, classification_report, confusion_matrix"
   ]
  },
  {
   "cell_type": "markdown",
   "metadata": {},
   "source": [
    "## Importing data"
   ]
  },
  {
   "cell_type": "code",
   "execution_count": 2,
   "metadata": {},
   "outputs": [
    {
     "name": "stdout",
     "output_type": "stream",
     "text": [
      "     Age Sex      BP Cholesterol  Na_to_K   Drug\n",
      "0     23   F    HIGH        HIGH   25.355  DrugY\n",
      "1     47   M     LOW        HIGH   13.093  drugC\n",
      "2     47   M     LOW        HIGH   10.114  drugC\n",
      "3     28   F  NORMAL        HIGH    7.798  drugX\n",
      "4     61   F     LOW        HIGH   18.043  DrugY\n",
      "..   ...  ..     ...         ...      ...    ...\n",
      "195   56   F     LOW        HIGH   11.567  drugC\n",
      "196   16   M     LOW        HIGH   12.006  drugC\n",
      "197   52   M  NORMAL        HIGH    9.894  drugX\n",
      "198   23   M  NORMAL      NORMAL   14.020  drugX\n",
      "199   40   F     LOW      NORMAL   11.349  drugX\n",
      "\n",
      "[200 rows x 6 columns]\n"
     ]
    }
   ],
   "source": [
    "data=pd.read_csv(\"C:\\\\Users\\\\hp\\\\Downloads\\\\drug200.csv\")\n",
    "print(data)"
   ]
  },
  {
   "cell_type": "markdown",
   "metadata": {},
   "source": [
    "## Basic Information"
   ]
  },
  {
   "cell_type": "code",
   "execution_count": 3,
   "metadata": {},
   "outputs": [
    {
     "name": "stdout",
     "output_type": "stream",
     "text": [
      "<class 'pandas.core.frame.DataFrame'>\n",
      "RangeIndex: 200 entries, 0 to 199\n",
      "Data columns (total 6 columns):\n",
      " #   Column       Non-Null Count  Dtype  \n",
      "---  ------       --------------  -----  \n",
      " 0   Age          200 non-null    int64  \n",
      " 1   Sex          200 non-null    object \n",
      " 2   BP           200 non-null    object \n",
      " 3   Cholesterol  200 non-null    object \n",
      " 4   Na_to_K      200 non-null    float64\n",
      " 5   Drug         200 non-null    object \n",
      "dtypes: float64(1), int64(1), object(4)\n",
      "memory usage: 9.5+ KB\n"
     ]
    }
   ],
   "source": [
    "data.info()"
   ]
  },
  {
   "cell_type": "markdown",
   "metadata": {},
   "source": [
    "## Data Cleaning"
   ]
  },
  {
   "cell_type": "markdown",
   "metadata": {},
   "source": [
    "## Empty cells"
   ]
  },
  {
   "cell_type": "code",
   "execution_count": 4,
   "metadata": {},
   "outputs": [
    {
     "data": {
      "text/plain": [
       "Age            0\n",
       "Sex            0\n",
       "BP             0\n",
       "Cholesterol    0\n",
       "Na_to_K        0\n",
       "Drug           0\n",
       "dtype: int64"
      ]
     },
     "execution_count": 4,
     "metadata": {},
     "output_type": "execute_result"
    }
   ],
   "source": [
    "data.isna().sum()"
   ]
  },
  {
   "cell_type": "markdown",
   "metadata": {},
   "source": [
    "### Check Duplicates"
   ]
  },
  {
   "cell_type": "code",
   "execution_count": 5,
   "metadata": {},
   "outputs": [
    {
     "name": "stdout",
     "output_type": "stream",
     "text": [
      "Number of duplicated rows:  0\n"
     ]
    }
   ],
   "source": [
    "print('Number of duplicated rows: ' , len(data[data.duplicated()]))"
   ]
  },
  {
   "cell_type": "markdown",
   "metadata": {},
   "source": [
    "## Plotting Boxplot"
   ]
  },
  {
   "cell_type": "code",
   "execution_count": 6,
   "metadata": {},
   "outputs": [
    {
     "data": {
      "image/png": "[encoded data removed]",
      "text/plain": [
       "<Figure size 640x480 with 1 Axes>"
      ]
     },
     "metadata": {},
     "output_type": "display_data"
    }
   ],
   "source": [
    "sns.boxplot(data=data)\n",
    "plt.xticks(rotation=90)\n",
    "plt.show()"
   ]
  },
  {
   "cell_type": "markdown",
   "metadata": {},
   "source": [
    "## Encoding Categorial Data"
   ]
  },
  {
   "cell_type": "code",
   "execution_count": 7,
   "metadata": {},
   "outputs": [
    {
     "name": "stdout",
     "output_type": "stream",
     "text": [
      "     Age  Sex  BP  Cholesterol  Na_to_K  Drug\n",
      "0     23    0   0            0   25.355     0\n",
      "1     47    1   1            0   13.093     3\n",
      "2     47    1   1            0   10.114     3\n",
      "3     28    0   2            0    7.798     4\n",
      "4     61    0   1            0   18.043     0\n",
      "..   ...  ...  ..          ...      ...   ...\n",
      "195   56    0   1            0   11.567     3\n",
      "196   16    1   1            0   12.006     3\n",
      "197   52    1   2            0    9.894     4\n",
      "198   23    1   2            1   14.020     4\n",
      "199   40    0   1            1   11.349     4\n",
      "\n",
      "[200 rows x 6 columns]\n"
     ]
    }
   ],
   "source": [
    "categ_col = data.select_dtypes(include=['object']).columns\n",
    "\n",
    "# Initialize encoders\n",
    "label_encoder = LabelEncoder()\n",
    "\n",
    "# Encode each categorical column using Label Encoding for simplicity\n",
    "encoded_data = data.copy()\n",
    "for i in categ_col:\n",
    "    encoded_data[i] = label_encoder.fit_transform(data[i])\n",
    "\n",
    "# Display the first 5 rows of the encoded dataset\n",
    "print(encoded_data)"
   ]
  },
  {
   "cell_type": "markdown",
   "metadata": {},
   "source": [
    "## Extract Dependent and Independent Variables"
   ]
  },
  {
   "cell_type": "code",
   "execution_count": 8,
   "metadata": {},
   "outputs": [],
   "source": [
    "X = encoded_data.iloc[:,0:5]   #Independent variable\n",
    "y = encoded_data['Drug']     #dependent variable"
   ]
  },
  {
   "cell_type": "markdown",
   "metadata": {},
   "source": [
    "## ## Statistical Analysis\n",
    "### (Correlation,Describe) "
   ]
  },
  {
   "cell_type": "code",
   "execution_count": 9,
   "metadata": {},
   "outputs": [
    {
     "name": "stdout",
     "output_type": "stream",
     "text": [
      "              Age     Na_to_K\n",
      "count  200.000000  200.000000\n",
      "mean    44.315000   16.084485\n",
      "std     16.544315    7.223956\n",
      "min     15.000000    6.269000\n",
      "25%     31.000000   10.445500\n",
      "50%     45.000000   13.936500\n",
      "75%     58.000000   19.380000\n",
      "max     74.000000   38.247000\n"
     ]
    }
   ],
   "source": [
    "print(data.describe())"
   ]
  },
  {
   "cell_type": "code",
   "execution_count": 10,
   "metadata": {},
   "outputs": [
    {
     "name": "stdout",
     "output_type": "stream",
     "text": [
      "               Age    Sex     BP  Cholesterol  Na_to_K   Drug\n",
      "Age          1.000  0.102  0.054       -0.068   -0.063  0.042\n",
      "Sex          0.102  1.000 -0.008       -0.009   -0.125  0.018\n",
      "BP           0.054 -0.008  1.000       -0.138   -0.149  0.419\n",
      "Cholesterol -0.068 -0.009 -0.138        1.000    0.010  0.048\n",
      "Na_to_K     -0.063 -0.125 -0.149        0.010    1.000 -0.689\n",
      "Drug         0.042  0.018  0.419        0.048   -0.689  1.000\n"
     ]
    },
    {
     "data": {
      "text/plain": [
       "<Axes: >"
      ]
     },
     "execution_count": 10,
     "metadata": {},
     "output_type": "execute_result"
    },
    {
     "data": {
      "image/png": "[encoded data removed]",
      "text/plain": [
       "<Figure size 640x480 with 2 Axes>"
      ]
     },
     "metadata": {},
     "output_type": "display_data"
    }
   ],
   "source": [
    "correlation=encoded_data.corr(numeric_only=True)\n",
    "print(np.around(correlation,decimals=3))\n",
    "sns.heatmap(correlation,annot=True)"
   ]
  },
  {
   "cell_type": "markdown",
   "metadata": {},
   "source": [
    "## Split Train and Test Data"
   ]
  },
  {
   "cell_type": "code",
   "execution_count": 11,
   "metadata": {},
   "outputs": [],
   "source": [
    "X_train, X_test, y_train, y_test = train_test_split(X, y, test_size=0.2, random_state=42)"
   ]
  },
  {
   "cell_type": "markdown",
   "metadata": {},
   "source": [
    "## Build Model"
   ]
  },
  {
   "cell_type": "code",
   "execution_count": 12,
   "metadata": {},
   "outputs": [
    {
     "name": "stdout",
     "output_type": "stream",
     "text": [
      "     Actual  Predicted\n",
      "95        4          4\n",
      "15        0          0\n",
      "30        4          4\n",
      "158       3          4\n",
      "128       0          0\n",
      "115       0          0\n",
      "69        0          0\n",
      "170       4          4\n",
      "174       1          1\n",
      "45        4          4\n",
      "66        1          1\n",
      "182       4          4\n",
      "165       0          0\n",
      "78        1          0\n",
      "186       2          2\n",
      "177       0          0\n",
      "56        2          2\n",
      "152       4          4\n",
      "82        3          4\n",
      "68        0          0\n",
      "124       2          2\n",
      "16        4          4\n",
      "148       4          4\n",
      "93        0          0\n",
      "65        0          0\n",
      "60        0          0\n",
      "84        3          4\n",
      "67        4          4\n",
      "125       0          0\n",
      "132       4          4\n",
      "9         0          0\n",
      "18        3          4\n",
      "55        3          0\n",
      "75        0          0\n",
      "150       1          1\n",
      "104       0          0\n",
      "135       4          4\n",
      "137       1          0\n",
      "164       0          0\n",
      "76        1          0\n"
     ]
    },
    {
     "name": "stderr",
     "output_type": "stream",
     "text": [
      "c:\\Users\\hp\\AppData\\Local\\Programs\\Python\\Python310\\lib\\site-packages\\sklearn\\linear_model\\_logistic.py:465: ConvergenceWarning: lbfgs failed to converge (status=1):\n",
      "STOP: TOTAL NO. of ITERATIONS REACHED LIMIT.\n",
      "\n",
      "Increase the number of iterations (max_iter) or scale the data as shown in:\n",
      "    https://scikit-learn.org/stable/modules/preprocessing.html\n",
      "Please also refer to the documentation for alternative solver options:\n",
      "    https://scikit-learn.org/stable/modules/linear_model.html#logistic-regression\n",
      "  n_iter_i = _check_optimize_result(\n"
     ]
    }
   ],
   "source": [
    "from sklearn.linear_model import LogisticRegression\n",
    "from sklearn.metrics import classification_report, confusion_matrix\n",
    "import pandas as pd\n",
    "\n",
    "# Fitting the Logistic Regression model to the training set\n",
    "model = LogisticRegression()\n",
    "model.fit(X_train, y_train)\n",
    "\n",
    "# Predicting the test set results\n",
    "y_pred = model.predict(X_test)\n",
    "\n",
    "# Comparing the actual output values for X_test with the predicted values\n",
    "data = pd.DataFrame({'Actual': y_test, 'Predicted': y_pred})\n",
    "print(data)"
   ]
  },
  {
   "cell_type": "code",
   "execution_count": 13,
   "metadata": {},
   "outputs": [
    {
     "name": "stdout",
     "output_type": "stream",
     "text": [
      "Accuracy score is  80.0 %\n",
      "\n",
      "Confusion Matrix:\n",
      "[[15  0  0  0  0]\n",
      " [ 3  3  0  0  0]\n",
      " [ 0  0  3  0  0]\n",
      " [ 1  0  0  0  4]\n",
      " [ 0  0  0  0 11]]\n",
      "\n",
      "Classification Report:\n",
      "              precision    recall  f1-score   support\n",
      "\n",
      "           0       0.79      1.00      0.88        15\n",
      "           1       1.00      0.50      0.67         6\n",
      "           2       1.00      1.00      1.00         3\n",
      "           3       0.00      0.00      0.00         5\n",
      "           4       0.73      1.00      0.85        11\n",
      "\n",
      "    accuracy                           0.80        40\n",
      "   macro avg       0.70      0.70      0.68        40\n",
      "weighted avg       0.72      0.80      0.74        40\n",
      "\n"
     ]
    },
    {
     "name": "stderr",
     "output_type": "stream",
     "text": [
      "c:\\Users\\hp\\AppData\\Local\\Programs\\Python\\Python310\\lib\\site-packages\\sklearn\\metrics\\_classification.py:1565: UndefinedMetricWarning: Precision is ill-defined and being set to 0.0 in labels with no predicted samples. Use `zero_division` parameter to control this behavior.\n",
      "  _warn_prf(average, modifier, f\"{metric.capitalize()} is\", len(result))\n",
      "c:\\Users\\hp\\AppData\\Local\\Programs\\Python\\Python310\\lib\\site-packages\\sklearn\\metrics\\_classification.py:1565: UndefinedMetricWarning: Precision is ill-defined and being set to 0.0 in labels with no predicted samples. Use `zero_division` parameter to control this behavior.\n",
      "  _warn_prf(average, modifier, f\"{metric.capitalize()} is\", len(result))\n",
      "c:\\Users\\hp\\AppData\\Local\\Programs\\Python\\Python310\\lib\\site-packages\\sklearn\\metrics\\_classification.py:1565: UndefinedMetricWarning: Precision is ill-defined and being set to 0.0 in labels with no predicted samples. Use `zero_division` parameter to control this behavior.\n",
      "  _warn_prf(average, modifier, f\"{metric.capitalize()} is\", len(result))\n"
     ]
    }
   ],
   "source": [
    "from sklearn.metrics import accuracy_score, classification_report, confusion_matrix\n",
    "# Predicting the accuracy score\n",
    "accuracy = accuracy_score(y_test, y_pred)\n",
    "print(\"Accuracy score is \", accuracy * 100, \"%\")\n",
    "\n",
    "# Optionally, include detailed performance metrics:\n",
    "print(\"\\nConfusion Matrix:\")\n",
    "print(confusion_matrix(y_test, y_pred))\n",
    "\n",
    "print(\"\\nClassification Report:\")\n",
    "print(classification_report(y_test, y_pred))"
   ]
  },
  {
   "cell_type": "code",
   "execution_count": 14,
   "metadata": {},
   "outputs": [],
   "source": [
    "from sklearn.ensemble import RandomForestClassifier, GradientBoostingClassifier\n",
    "from xgboost import XGBClassifier\n",
    "from sklearn.model_selection import train_test_split\n",
    "from sklearn.metrics import accuracy_score, classification_report\n",
    "from sklearn.datasets import load_iris"
   ]
  },
  {
   "cell_type": "code",
   "execution_count": 15,
   "metadata": {},
   "outputs": [
    {
     "name": "stderr",
     "output_type": "stream",
     "text": [
      "c:\\Users\\hp\\AppData\\Local\\Programs\\Python\\Python310\\lib\\site-packages\\sklearn\\linear_model\\_logistic.py:465: ConvergenceWarning: lbfgs failed to converge (status=1):\n",
      "STOP: TOTAL NO. of ITERATIONS REACHED LIMIT.\n",
      "\n",
      "Increase the number of iterations (max_iter) or scale the data as shown in:\n",
      "    https://scikit-learn.org/stable/modules/preprocessing.html\n",
      "Please also refer to the documentation for alternative solver options:\n",
      "    https://scikit-learn.org/stable/modules/linear_model.html#logistic-regression\n",
      "  n_iter_i = _check_optimize_result(\n"
     ]
    },
    {
     "name": "stdout",
     "output_type": "stream",
     "text": [
      "Logistic Regression Accuracy: 90.00%\n",
      "Gradient Boosting Classifier Accuracy: 100.00%\n",
      "XGBoost Classifier Accuracy: 97.50%\n",
      "\n",
      "Classification Report for Logistic Regression:\n",
      "              precision    recall  f1-score   support\n",
      "\n",
      "           0       1.00      1.00      1.00        15\n",
      "           1       1.00      1.00      1.00         6\n",
      "           2       0.75      1.00      0.86         3\n",
      "           3       1.00      0.40      0.57         5\n",
      "           4       0.77      0.91      0.83        11\n",
      "\n",
      "    accuracy                           0.90        40\n",
      "   macro avg       0.90      0.86      0.85        40\n",
      "weighted avg       0.92      0.90      0.89        40\n",
      "\n",
      "\n",
      "Classification Report for Gradient Boosting Classifier:\n",
      "              precision    recall  f1-score   support\n",
      "\n",
      "           0       1.00      1.00      1.00        15\n",
      "           1       1.00      1.00      1.00         6\n",
      "           2       1.00      1.00      1.00         3\n",
      "           3       1.00      1.00      1.00         5\n",
      "           4       1.00      1.00      1.00        11\n",
      "\n",
      "    accuracy                           1.00        40\n",
      "   macro avg       1.00      1.00      1.00        40\n",
      "weighted avg       1.00      1.00      1.00        40\n",
      "\n",
      "\n",
      "Classification Report for XGBoost Classifier:\n",
      "              precision    recall  f1-score   support\n",
      "\n",
      "           0       1.00      1.00      1.00        15\n",
      "           1       1.00      1.00      1.00         6\n",
      "           2       1.00      1.00      1.00         3\n",
      "           3       1.00      0.80      0.89         5\n",
      "           4       0.92      1.00      0.96        11\n",
      "\n",
      "    accuracy                           0.97        40\n",
      "   macro avg       0.98      0.96      0.97        40\n",
      "weighted avg       0.98      0.97      0.97        40\n",
      "\n"
     ]
    },
    {
     "name": "stderr",
     "output_type": "stream",
     "text": [
      "c:\\Users\\hp\\AppData\\Local\\Programs\\Python\\Python310\\lib\\site-packages\\xgboost\\core.py:158: UserWarning: [19:47:32] WARNING: C:\\buildkite-agent\\builds\\buildkite-windows-cpu-autoscaling-group-i-0c55ff5f71b100e98-1\\xgboost\\xgboost-ci-windows\\src\\learner.cc:740: \n",
      "Parameters: { \"use_label_encoder\" } are not used.\n",
      "\n",
      "  warnings.warn(smsg, UserWarning)\n"
     ]
    }
   ],
   "source": [
    "lr = LogisticRegression(max_iter=1000, random_state=42)\n",
    "gb = GradientBoostingClassifier(random_state=42)\n",
    "xgb = XGBClassifier(use_label_encoder=False, eval_metric='mlogloss', random_state=42)\n",
    "\n",
    "# Train the classifiers\n",
    "lr.fit(X_train, y_train)\n",
    "gb.fit(X_train, y_train)\n",
    "xgb.fit(X_train, y_train)\n",
    "\n",
    "# Make predictions on the test set\n",
    "y_predict_lr = lr.predict(X_test)\n",
    "y_predict_gb = gb.predict(X_test)\n",
    "y_predict_xgb = xgb.predict(X_test)\n",
    "\n",
    "# Evaluate the models\n",
    "score_lr = accuracy_score(y_test, y_predict_lr) * 100\n",
    "score_gb = accuracy_score(y_test, y_predict_gb) * 100\n",
    "score_xgb = accuracy_score(y_test, y_predict_xgb) * 100\n",
    "\n",
    "print(f\"Logistic Regression Accuracy: {score_lr:.2f}%\")\n",
    "print(f\"Gradient Boosting Classifier Accuracy: {score_gb:.2f}%\")\n",
    "print(f\"XGBoost Classifier Accuracy: {score_xgb:.2f}%\")\n",
    "\n",
    "# Additional evaluation reports\n",
    "print(\"\\nClassification Report for Logistic Regression:\")\n",
    "print(classification_report(y_test, y_predict_lr))\n",
    "\n",
    "print(\"\\nClassification Report for Gradient Boosting Classifier:\")\n",
    "print(classification_report(y_test, y_predict_gb))\n",
    "\n",
    "print(\"\\nClassification Report for XGBoost Classifier:\")\n",
    "print(classification_report(y_test, y_predict_xgb))\n"
   ]
  },
  {
   "cell_type": "code",
   "execution_count": 17,
   "metadata": {},
   "outputs": [
    {
     "data": {
      "image/png": "[encoded data removed]",
      "text/plain": [
       "<Figure size 640x480 with 1 Axes>"
      ]
     },
     "metadata": {},
     "output_type": "display_data"
    }
   ],
   "source": [
    "score_lr, score_gb, score_xgb = 90.0, 100, 97.0\n",
    "models = ['Logistic Regression', 'Gradient Boosting', 'XGBoost']\n",
    "scores = [score_lr, score_gb, score_xgb]\n",
    "\n",
    "plt.bar(models, scores, color=['blue', 'orange', 'green'])\n",
    "plt.ylabel('Accuracy (%)')\n",
    "for i, score in enumerate(scores):\n",
    "    plt.text(i, score + 1, f'{score:.2f}%', ha='center')\n",
    "plt.show()"
   ]
  },
  {
   "cell_type": "markdown",
   "metadata": {},
   "source": [
    "## From this graph we can says that Gradient Boosting models performs the perfect accuracy score"
   ]
  }
 ],
 "metadata": {
  "kernelspec": {
   "display_name": "Python 3",
   "language": "python",
   "name": "python3"
  },
  "language_info": {
   "codemirror_mode": {
    "name": "ipython",
    "version": 3
   },
   "file_extension": ".py",
   "mimetype": "text/x-python",
   "name": "python",
   "nbconvert_exporter": "python",
   "pygments_lexer": "ipython3",
   "version": "3.10.11"
  }
 },
 "nbformat": 4,
 "nbformat_minor": 2
}
